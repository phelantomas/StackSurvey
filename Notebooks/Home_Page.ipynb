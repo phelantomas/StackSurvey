{
 "cells": [
  {
   "cell_type": "markdown",
   "metadata": {},
   "source": [
    "<img src=\"https://i.imgur.com/36sp6u2.png\" align=\"middle\">"
   ]
  },
  {
   "cell_type": "markdown",
   "metadata": {},
   "source": [
    "<img src=\"https://cdn.sstatic.net/Sites/stackoverflow/company/img/logos/so/so-logo.png\" style=\"width:400px;height:80px;\" align=\"middle\">\n",
    "<h1><font color=\"orange\">Stackoverflow Survey 2017 Data Analysis</font></h1>\n",
    "\n",
    "With more than 64,000 responses fielded from 213 countries and dependent territories, stack overflows Annual Developer Survey is the most comprehensive survey of software developers ever conducted.\n",
    "\n",
    "Below are our implementation of the goals we set out to achieve in our 4th Year Data Science project. Hopefully useful information can be obtain from the following notebooks."
   ]
  },
  {
   "cell_type": "markdown",
   "metadata": {},
   "source": [
    "<h2><font color=\"orange\">Table of Contents</font></h2>"
   ]
  },
  {
   "cell_type": "markdown",
   "metadata": {
    "collapsed": true
   },
   "source": [
    "<a href=\"https://nbviewer.jupyter.org/github/phelantomas/Notebook/blob/master/Goal_1.ipynb\">Goal 1</a>\n",
    "\n",
    "<a href=\"https://nbviewer.jupyter.org/github/phelantomas/Notebook/blob/master/Goal_2.ipynb\">Goal 2</a>\n",
    "\n",
    "<a href=\"https://nbviewer.jupyter.org/github/phelantomas/Notebook/blob/master/Goal_3.ipynb\">Goal 3</a>\n",
    "\n",
    "<a href=\"https://nbviewer.jupyter.org/github/JaMurphSmi/Data-Science/blob/master/Programmer%20Happiness%20Goal%204.ipynb\">Goal 4</a>\n",
    "\n",
    "<a href=\"https://nbviewer.jupyter.org/github/JaMurphSmi/Data-Science/blob/master/Most%20Well%20Paid%20Language%20Goal%205.ipynb\">Goal 5</a>\n",
    "\n",
    "<a href=\"https://nbviewer.jupyter.org/github/JaMurphSmi/Data-Science/blob/master/Pronunciation%20of%20GIF%20Goal%206.ipynb\">Goal 6</a>\n",
    "\n",
    "<a href=\"https://nbviewer.jupyter.org/github/Lowens1996/J_Notebooks/blob/master/Education_Employment_Comparison.ipynb\">Goal 7</a>\n",
    "\n",
    "<a href=\"https://nbviewer.jupyter.org/github/Lowens1996/J_Notebooks/blob/master/Most_Popular_Languages_and_Frameworks_People_Want_To_Work_With.ipynb\">Goal 8</a>\n",
    "\n",
    "<a href=\"https://nbviewer.jupyter.org/github/Lowens1996/J_Notebooks/blob/master/Correlation_Between_Parents_Education_and_Respondents_View_On_The_Importance_Of_Education.ipynb\">Goal 9</a>"
   ]
  },
  {
   "cell_type": "markdown",
   "metadata": {
    "collapsed": true
   },
   "source": [
    "<h2>Disclaimer</h2>"
   ]
  },
  {
   "cell_type": "markdown",
   "metadata": {},
   "source": [
    "This research does not claim to be 100% conclusive and should be treated as such. The data used was qualitative in nature, and cannot be verified as factual. Though we are proud of our work here, and believe it can stand up to scrutiny."
   ]
  }
 ],
 "metadata": {
  "kernelspec": {
   "display_name": "Python 3",
   "language": "python",
   "name": "python3"
  },
  "language_info": {
   "codemirror_mode": {
    "name": "ipython",
    "version": 3
   },
   "file_extension": ".py",
   "mimetype": "text/x-python",
   "name": "python",
   "nbconvert_exporter": "python",
   "pygments_lexer": "ipython3",
   "version": "3.6.3"
  }
 },
 "nbformat": 4,
 "nbformat_minor": 2
}
